{
 "cells": [
  {
   "cell_type": "markdown",
   "metadata": {},
   "source": [
    "# Preface\n",
    "In this Jupyter Notebook we'll learn how to train a convolutional neural network to classify images stored in the MNIST Dataset. The code has been tested with Python 3.7.6 and Pytorch 1.7.1.\n",
    "\n",
    "**Note: This is still a work in progress.**  <br>\n",
    "\n",
    "## 0. Understanding the MNIST dataset\n",
    "The MNIST database is a classic for machine learning practioners. It contains images of handwritten digits from 0 to 9, and therefore can be deemed as an image classification problem. The MNIST database has a training set of 60,000 examples, and a test set of 10,000 examples. It is a subset of a larger set available from NIST. The digits have been size-normalized and centered in a fixed-size gray-scale image of 28x28 pixels.\n",
    "\n",
    "It is a good database for people who want to try learning techniques and pattern recognition methods on real-world data while spending minimal efforts on preprocessing and formatting. Detailed information of the dataset can be found on http://yann.lecun.com/exdb/mnist/.\n"
   ]
  },
  {
   "cell_type": "markdown",
   "metadata": {},
   "source": [
    "## 1. Accessing the MNIST dataset from PyTorch\n",
    "It is easy to download the MNIST dataset from PyTorch's torchvision package, which consists of popular datasets, model architectures, and common image transformations for computer vision. First, let's import the necessary modules.\n",
    "\n"
   ]
  },
  {
   "cell_type": "code",
   "execution_count": 1,
   "metadata": {},
   "outputs": [],
   "source": [
    "import torch\n",
    "import torchvision"
   ]
  },
  {
   "cell_type": "markdown",
   "metadata": {},
   "source": [
    "Next, let's download the dataset and save it under a \"data\" directory under our present working directory. In the meantime we will also do a few things: \n",
    "1. Define a \"transform\" function to (a) resize the images to 32 by 32 gray-scale pixels to conform with LeNet-5 convolutional neural network input format, and (b) convert downloaded PIL images of range [0,1] to tensors of range [-1, 1].\n",
    "2. Use PyTorch's DataLoader utility to define how we want to load the image data in minibatches.\n",
    "\n",
    "A little bit more explanation on the Normalize function in the transform function. Basically it does the following for each channel:\n",
    "- image = (image - mean) / std\n",
    "\n",
    "Here we will set the both the parameters mean and std to 0.5. This will normalize the image in the range [-1, 1]. For example, the minimum value 0 will be converted to (0 - 0.5) / 0.5 = -1, the maximum value of 1 will be converted to (1 - 0.5) / 0.5 = 1. If you would like to get your image back in [0, 1] range, you could use,\n",
    "\n",
    "- image = ((image * std) + mean)"
   ]
  },
  {
   "cell_type": "code",
   "execution_count": 2,
   "metadata": {},
   "outputs": [],
   "source": [
    "transform = torchvision.transforms.Compose(\n",
    "    [torchvision.transforms.ToTensor(), \n",
    "     torchvision.transforms.Resize([32,32]),\n",
    "     torchvision.transforms.Normalize(mean=0.5, std=0.5)])\n",
    "\n",
    "train_set = torchvision.datasets.MNIST(root='./data', train=True, download=True, transform=transform)\n",
    "test_set = torchvision.datasets.MNIST(root='./data', train=False, download=True, transform=transform)\n",
    "\n",
    "bs = 10 # define the minibatch size\n",
    "trainloader = torch.utils.data.DataLoader(train_set, batch_size=bs, shuffle=True, num_workers=4)\n",
    "testloader = torch.utils.data.DataLoader(test_set, batch_size=bs, shuffle=False, num_workers=4)\n",
    "\n",
    "classes = ('0', '1', '2', '3','4', '5', '6', '7', '8', '9') # the classes for hand-written digits"
   ]
  },
  {
   "cell_type": "code",
   "execution_count": 3,
   "metadata": {},
   "outputs": [
    {
     "name": "stdout",
     "output_type": "stream",
     "text": [
      "60000 10000\n",
      "<class 'torchvision.datasets.mnist.MNIST'>\n"
     ]
    }
   ],
   "source": [
    "# Verify the size downloaded datasets\n",
    "print(len(train_set), len(test_set))\n",
    "print(type(train_set))"
   ]
  },
  {
   "cell_type": "markdown",
   "metadata": {},
   "source": [
    "Next, let's view a few sample images to see what they look like."
   ]
  },
  {
   "cell_type": "code",
   "execution_count": 4,
   "metadata": {},
   "outputs": [
    {
     "data": {
      "image/png": "[encoded data removed]",
      "text/plain": [
       "<Figure size 432x288 with 1 Axes>"
      ]
     },
     "metadata": {
      "needs_background": "light"
     },
     "output_type": "display_data"
    },
    {
     "name": "stdout",
     "output_type": "stream",
     "text": [
      "Image Labels:      1     3     5     2     6     6     6     4     9     9\n"
     ]
    }
   ],
   "source": [
    "import matplotlib.pyplot as plt\n",
    "import numpy as np\n",
    "\n",
    "# define function to show image\n",
    "def show(img):\n",
    "    npimg = img.numpy()     # conver to a numpy array\n",
    "    plt.imshow(np.transpose(npimg, (1, 2, 0)), interpolation='nearest') # https://numpy.org/doc/stable/reference/generated/numpy.transpose.html\n",
    "    plt.show()\n",
    "    \n",
    "# get a random minibatch of training images\n",
    "dataiter = iter(trainloader)\n",
    "images, labels = dataiter.next()\n",
    "\n",
    "# show images\n",
    "show(torchvision.utils.make_grid(images, nrow=10, padding=3, normalize=True, range=(-1,1), pad_value=1)) # https://pytorch.org/docs/stable/torchvision/utils.html\n",
    "\n",
    "# print labels\n",
    "print('Image Labels: ', ' '.join('%5s' % classes[labels[j]] for j in range(bs)))"
   ]
  },
  {
   "cell_type": "markdown",
   "metadata": {},
   "source": [
    "We can also confirm the image dimension in our minibatch."
   ]
  },
  {
   "cell_type": "code",
   "execution_count": 5,
   "metadata": {},
   "outputs": [
    {
     "name": "stdout",
     "output_type": "stream",
     "text": [
      "torch.Size([10, 1, 32, 32])\n"
     ]
    }
   ],
   "source": [
    "print(images.shape) # ([Number of examples, Number of input channel, Image height, Image width])"
   ]
  },
  {
   "cell_type": "markdown",
   "metadata": {},
   "source": [
    "## 2. Define a Convolutional Neural Network\n",
    "\n",
    "We will start by building the classic LeNet-5 Convolutional Neural Network and gradually improve it.\n",
    "\n",
    "References:\n",
    "1. http://yann.lecun.com/exdb/lenet/\n",
    "2. https://www.coursera.org/learn/convolutional-neural-networks/lecture/MmYe2/classic-networks\n",
    "3. https://pytorch.org/tutorials/beginner/blitz/neural_networks_tutorial.html\n",
    "\n",
    "The structure of LeNet-5 is as follows: <br>\n",
    "Input image <br>\n",
    "&nbsp;&nbsp;-> Convolutional (Conv) layer (6 filters, kernel size: 5 by 5, stride: 1, padding: 2) -> ReLU <br>\n",
    "&nbsp;&nbsp;-> Avg pooling layer (kernel size: 2, stride: 2) <br>\n",
    "&nbsp;&nbsp;-> Conv layer (16 filters, kernel size: 5 by 5, stride: 1) -> ReLU <br>\n",
    "&nbsp;&nbsp;-> Avg pooling layer (kernel size: 2, stride: 2) -> view (similar to numpy's reshape) <br>\n",
    "&nbsp;&nbsp;-> Fully Connected (FC) linear layer of 120 neurons -> ReLU <br>\n",
    "&nbsp;&nbsp;-> FC linear layer of 84 neurons -> ReLU <br>\n",
    "&nbsp;&nbsp;-> Output linear layer of 10 neurons <br>\n",
    "&nbsp;&nbsp;-> Prediction\n",
    "\n",
    "We will implement Rectified Linear Unit (ReLU) function as the activation function for the Convolutional layers. ReLU sets x = max(0,x) and has the advantage of avoiding vanishingly small gradients in deep neural networks, efficient computation, and sparse activation (since hidden units with negative inputs are set to 0 and therefore ignored).\n",
    "\n",
    "Here we aim to define a simpler network to begin with. There are a couple of ideas we will try to explore later in this notebook to enhance our network's initial performance -- such as hidden unit dropouts, batch normalization, parameter regularization, usage of maxpooling layer instead of average pooling, differerent optimization schemes for speeding up computations (e.g., conventional gradient desent, momentum, RMSProp, Adam etc.), and data augmentation etc.\n",
    "\n",
    "Let's begin by defining a basic LeNet5.\n",
    "         "
   ]
  },
  {
   "cell_type": "code",
   "execution_count": 6,
   "metadata": {},
   "outputs": [],
   "source": [
    "import torch.nn as nn\n",
    "import torch.nn.functional as F\n",
    "\n",
    "\n",
    "class LeNet5(nn.Module):\n",
    "    def __init__(self):\n",
    "        super().__init__()\n",
    "        self.conv1 = nn.Conv2d(in_channels=1, out_channels=6, kernel_size=5, stride=1, padding=0) # Cin (for gray scale image we only have 1 channel), Cout, Kernel size\n",
    "        self.pool = nn.AvgPool2d(kernel_size=2, stride=2, padding=0)\n",
    "        self.conv2 = nn.Conv2d(in_channels=6, out_channels=16, kernel_size=5, stride=1, padding=0)\n",
    "        self.fc1 = nn.Linear(16 * 5 * 5, 120)\n",
    "        self.fc2 = nn.Linear(120, 84)\n",
    "        self.fc3 = nn.Linear(84, 10)\n",
    "\n",
    "    def forward(self, x):\n",
    "        x = self.pool(F.relu(self.conv1(x))) # first run conv layer, then the relu activation function, then 2D pooling\n",
    "        x = self.pool(F.relu(self.conv2(x)))\n",
    "        x = x.view(-1, 16 * 5 * 5)\n",
    "        x = F.relu(self.fc1(x))\n",
    "        x = F.relu(self.fc2(x))\n",
    "        x = self.fc3(x)\n",
    "        return x\n",
    "\n",
    "\n",
    "model = LeNet5()"
   ]
  },
  {
   "cell_type": "markdown",
   "metadata": {},
   "source": [
    "Next we will use PyTorch's \"optim\" package to pick an optimization algorithm of interest. Let's use the basic Stochastic Gradient Descent approach with momentum as a start."
   ]
  },
  {
   "cell_type": "code",
   "execution_count": 7,
   "metadata": {},
   "outputs": [],
   "source": [
    "import torch.optim as optim\n",
    "optimizer = optim.SGD(model.parameters(), lr=0.001, momentum=0.9) # common beta selection for momentum is 0.9; learning rate is a hyperparameter to be tuned"
   ]
  },
  {
   "cell_type": "markdown",
   "metadata": {},
   "source": [
    "Next let's define the loss function. Here we will use the cross-entropy loss for this multi-class classification problem. The function computes the LogSoftmax loss over a minibatch of training examples. (See https://pytorch.org/docs/stable/generated/torch.nn.CrossEntropyLoss.html for details.) \n",
    "\n",
    "Compared to the nn.CrossEntropyLoss() used below, an alternative way to is define our loss by calling F.cross_entropy(). The main difference between the two approaches is that when defining the loss using the nn module the state of the network's weights is saved. Therefore, when weights are used to calculate the loss, as in the case of where we want to more accurately avoid the mis-classification of a certain class compared to the others, the nn version of cross-entropy loss definition is more convenient as the weights won't need to be passed every single time the loss function is called. In the case where there's no weighted loss involved, these two approaches are equivalent."
   ]
  },
  {
   "cell_type": "code",
   "execution_count": 8,
   "metadata": {},
   "outputs": [],
   "source": [
    "criterion = nn.CrossEntropyLoss()"
   ]
  },
  {
   "cell_type": "markdown",
   "metadata": {},
   "source": [
    "## 3. Train the network\n"
   ]
  },
  {
   "cell_type": "code",
   "execution_count": 9,
   "metadata": {},
   "outputs": [
    {
     "name": "stdout",
     "output_type": "stream",
     "text": [
      "[1,  2000] loss: 1.337\n",
      "[1,  4000] loss: 0.274\n",
      "[1,  6000] loss: 0.191\n",
      "[2,  2000] loss: 0.140\n",
      "[2,  4000] loss: 0.125\n",
      "[2,  6000] loss: 0.110\n",
      "[3,  2000] loss: 0.087\n",
      "[3,  4000] loss: 0.085\n",
      "[3,  6000] loss: 0.084\n",
      "Finished Training\n"
     ]
    }
   ],
   "source": [
    "# import IPython.core.debugger as ipdb # for debugging purposes\n",
    "\n",
    "num_epoch = 3 # number of loops through the epoch\n",
    "for epoch in range(num_epoch):  # loop over the dataset multiple times\n",
    "\n",
    "    running_loss = 0.0\n",
    "    \n",
    "    # Use enumerate to return a counter along with the data, e.g., (0, [inputs_0, labels_0]), (1, [inputs_1, labels_1]) etc.\n",
    "    for i, data in enumerate(trainloader, start=0):\n",
    "        # get the inputs; data is a list of [inputs, labels]\n",
    "        inputs, labels = data\n",
    "#         ipdb.set_trace() # for debugging\n",
    "        \n",
    "    \n",
    "        # zero the parameter gradients per minibatch otherwise the gradients will be accumulated\n",
    "        optimizer.zero_grad()\n",
    "\n",
    "        # forward + backward + optimize\n",
    "        outputs = model(inputs) # this automatically calls the forward function on the minibatch dataset of size bs\n",
    "        loss = criterion(outputs, labels) # compute the loss using previously defined function\n",
    "        loss.backward() # back proppagation to compute gradients\n",
    "        optimizer.step() # update the neural network parameters\n",
    "\n",
    "        # print statistics\n",
    "        running_loss += loss.item() # CrossEntropy or other loss functions is divided by the number of elements i.e. the reduction parameter is mean by default.\n",
    "        \n",
    "        if i % 2000 == 1999:    # print every 2000 mini-batches, each minibatch has bs examples\n",
    "            print('[%d, %5d] loss: %.3f' %\n",
    "                  (epoch + 1, i + 1, running_loss / 2000))\n",
    "            running_loss = 0.0 # reset averaged minibatch running loss to benchmark progress of training\n",
    "\n",
    "print('Finished Training')"
   ]
  },
  {
   "cell_type": "markdown",
   "metadata": {},
   "source": [
    "Let's quickly save our trained model:\n",
    "\n"
   ]
  },
  {
   "cell_type": "code",
   "execution_count": 10,
   "metadata": {},
   "outputs": [],
   "source": [
    "PATH = './MNIST_NET.pt'\n",
    "torch.save(model.state_dict(), PATH)\n",
    "\n",
    "# we can use torch.load() to retrieve state, and load_state_dict() to restore loaded state to a model\n",
    "# example 1:\n",
    "# torch.save(m.state_dict(), 'mymodule.pt')\n",
    "# m_state_dict = torch.load('mymodule.pt')\n",
    "# new_m = MyModule()\n",
    "# new_m.load_state_dict(m_state_dict)\n",
    "\n",
    "# example 2:\n",
    "# model = LeNet5()\n",
    "# model.load_state_dict(torch.load(PATH))"
   ]
  },
  {
   "cell_type": "markdown",
   "metadata": {},
   "source": [
    "See `here <https://pytorch.org/docs/stable/notes/serialization.html>`_\n",
    "for more details on saving PyTorch models.\n",
    "\n",
    "## 4. Test the network on the test data\n",
    "\n",
    "\n",
    "We have trained the network for 3 passes over the training dataset.\n",
    "But we need to check if the network has learnt anything at all.\n",
    "\n",
    "We will check this by predicting the class label that the neural network\n",
    "outputs, and checking it against the ground-truth. If the prediction is\n",
    "correct, we add the sample to the list of correct predictions.\n",
    "\n",
    "Okay, first step. Let us display an image from the test set to get familiar.\n",
    "\n"
   ]
  },
  {
   "cell_type": "code",
   "execution_count": 11,
   "metadata": {},
   "outputs": [
    {
     "data": {
      "image/png": "[encoded data removed]",
      "text/plain": [
       "<Figure size 432x288 with 1 Axes>"
      ]
     },
     "metadata": {
      "needs_background": "light"
     },
     "output_type": "display_data"
    },
    {
     "name": "stdout",
     "output_type": "stream",
     "text": [
      "Ground Truth:      7     2     1     0     4     1     4     9     5     9\n"
     ]
    }
   ],
   "source": [
    "dataiter = iter(testloader)\n",
    "images, labels = dataiter.next()\n",
    "\n",
    "# print images\n",
    "show(torchvision.utils.make_grid(images, nrow=10, padding=3, normalize=True, range=(-1,1), pad_value=1)) # https://pytorch.org/docs/stable/torchvision/utils.html\n",
    "print('Ground Truth: ', ' '.join('%5s' % classes[labels[j]] for j in range(bs)))"
   ]
  },
  {
   "cell_type": "markdown",
   "metadata": {},
   "source": [
    "We can do a small test on this minibatch to see how our CNN performs. The outputs are energies for the 10 classes.\n",
    "The higher the energy for a class, the more the network thinks that the image is of the particular class.\n",
    "So, we will get the index of the highest energy. And since we are predicting handwritten digits, the number returned by the label happen to match the classes that represent the numbers from 0 to 9. Therefore we don't need to define the use the classes separately for this MNIST dataset. That is, classes[labels[i]] and labels[i] are the same number."
   ]
  },
  {
   "cell_type": "code",
   "execution_count": 12,
   "metadata": {},
   "outputs": [
    {
     "name": "stdout",
     "output_type": "stream",
     "text": [
      "Labels:  [7, 2, 1, 0, 4, 1, 4, 9, 5, 9]\n",
      "Prediction:  [7, 2, 1, 0, 4, 1, 4, 9, 6, 9]\n",
      "Accuracy:  90.0 %\n"
     ]
    }
   ],
   "source": [
    "outputs = model(images)\n",
    "# print(outputs.shape)\n",
    "values, pred = torch.max(outputs, 1)\n",
    "print(\"Labels: \", labels.tolist())\n",
    "print(\"Prediction: \", pred.tolist())\n",
    "print(\"Accuracy: \", (pred == labels).sum().item() / pred.numel() * 100, \"%\")"
   ]
  },
  {
   "cell_type": "markdown",
   "metadata": {},
   "source": [
    "The result on this minibatch seems pretty good. Let us look at how the network performs on the whole dataset."
   ]
  },
  {
   "cell_type": "code",
   "execution_count": 13,
   "metadata": {},
   "outputs": [
    {
     "name": "stdout",
     "output_type": "stream",
     "text": [
      "Accuracy of the network on the 10000 test images: 97.48 %\n"
     ]
    }
   ],
   "source": [
    "correct = 0\n",
    "total = 0\n",
    "with torch.no_grad():\n",
    "    for data in testloader:\n",
    "        images, labels = data\n",
    "        outputs = model(images)\n",
    "        _, pred = torch.max(outputs.data, 1)\n",
    "        total += labels.size(0)\n",
    "        correct += (pred == labels).sum().item()\n",
    "\n",
    "print('Accuracy of the network on the %d test images: %.2f %%' % \n",
    "      (total, 100 * correct / total))"
   ]
  },
  {
   "cell_type": "markdown",
   "metadata": {},
   "source": [
    "That looks much better than making random guesses, which is 10% accuracy (randomly picking a class out of 10 classes). Seems like the network learned something. We can also check what are the classes that performed well, and the classes that did not perform well:\n",
    "\n"
   ]
  },
  {
   "cell_type": "code",
   "execution_count": 14,
   "metadata": {},
   "outputs": [
    {
     "name": "stdout",
     "output_type": "stream",
     "text": [
      "Accuracy of predicting   0 : 99.18 %\n",
      "Accuracy of predicting   1 : 99.12 %\n",
      "Accuracy of predicting   2 : 99.13 %\n",
      "Accuracy of predicting   3 : 98.02 %\n",
      "Accuracy of predicting   4 : 97.86 %\n",
      "Accuracy of predicting   5 : 91.93 %\n",
      "Accuracy of predicting   6 : 98.02 %\n",
      "Accuracy of predicting   7 : 96.69 %\n",
      "Accuracy of predicting   8 : 97.74 %\n",
      "Accuracy of predicting   9 : 96.33 %\n"
     ]
    }
   ],
   "source": [
    "# import IPython.core.debugger as ipdb  # for debugging\n",
    "\n",
    "class_correct = list(0. for i in range(10)) # initialize a list of 10 floats\n",
    "class_total = list(0. for i in range(10))\n",
    "\n",
    "# since we are making predictions, it's unnecessary to save gradient data, hence we'll remove that part to save time and memeory\n",
    "with torch.no_grad():\n",
    "    for data in testloader:\n",
    "        images, labels = data\n",
    "        outputs = model(images)\n",
    "        _, pred = torch.max(outputs, 1)\n",
    "        \n",
    "#         ipdb.set_trace()  # for debugging\n",
    "        c = (pred == labels).squeeze()\n",
    "        \n",
    "        for i in range(bs):\n",
    "            label = labels[i] \n",
    "            class_correct[label] += c[i].item() # will add 1 to class_correct[label] if prediction matches label\n",
    "            class_total[label] += 1\n",
    "\n",
    "for i in range(10):\n",
    "    print('Accuracy of predicting %3s : %.2f %%' % (\n",
    "        classes[i], 100 * class_correct[i] / class_total[i]))"
   ]
  },
  {
   "cell_type": "markdown",
   "metadata": {},
   "source": [
    "These results are already pretty impressive, but the 5's 7's, 8's and 9's seemed to have some room for improvement. At a first glance, we might have the tendency to dive deep directly and start implementing new ideas or modifying existing network structures to seek for improvement. But those efforts could easily take weeks and even months to mature. Before getting overly committed, let's seek for some additional information to see if our network can actually perform better when we invest more time in it...\n",
    "\n",
    "So let's recap, now we know that when the model is trained on 60,000 examples with 3 epochs the accuracy is ~97%. The first question that comes into mind is: is this a good accuracy?\n",
    "\n",
    "We'll have to go back to machine learning fundamentals to seek for the answer. In theory, the maximum of accuracy of any problem is bounded by the Bayes Optimal Error, and in many cases the value is an unknown. However, we can approximate the Bayes Error using human-level performance. For example, maybe a regular human like myself can at most recognize 98% of handwritten numbers then we might think our model isn't too bad. But if more research shows that a group of avid readers can recognize 99.9% of the digits in the MNIST dataset then we might think \"oh the model is actually just okay but not great.\" Then in this latter case we know Bayes error is < 0.1% since a group of experts can already achieve such an error margin, and as a result we'd say our model at least has some room for improvement: (99.9% - 97%) = 2.9%. We would call this 2.9% difference between human-level performance and model performance the \"avoidable bias\".\n",
    "\n",
    "So let's do a bit of google search and that leads us to this paper: https://arxiv.org/pdf/1202.2745.pdf\n",
    "and this github sharing: http://rodrigob.github.io/are_we_there_yet/build/classification_datasets_results.html#4d4e495354\n",
    "\n",
    "According to the paper, human error rate can reach ~0.2%, and a similar level of performance was attained by some research papers published circa. 2010-2016. Therefore we know there's certain room for improving our CNN model!\n",
    "\n",
    "We'll use 97% accuracy as our baseline and see if we can improve that to 99% or above.\n",
    "\n",
    "But in order to do that, first of all, we should randomly split our training set into a sub-training set of 50,000 examples and a development (dev) set of 10,000 examples. The purpose of having a separate dev set for model/hyperparameter-tuning is because we don't want to overfit our test set. In other words, we want to prevent the model from \"seeing\" the test set before any performance evaluation so that we can have an unbiased accuracy estimation of our model when making predictions based on the test set."
   ]
  },
  {
   "cell_type": "code",
   "execution_count": 15,
   "metadata": {},
   "outputs": [],
   "source": [
    "train_set, dev_set = torch.utils.data.random_split(train_set, [50000, 10000],generator=torch.Generator().manual_seed(105))"
   ]
  },
  {
   "cell_type": "code",
   "execution_count": 16,
   "metadata": {},
   "outputs": [
    {
     "name": "stdout",
     "output_type": "stream",
     "text": [
      "New training set size:  50000\n",
      "New dev set size:  10000\n"
     ]
    }
   ],
   "source": [
    "# confirm the length of new training and dev set\n",
    "print('New training set size: ', len(train_set))\n",
    "print('New dev set size: ', len(dev_set))"
   ]
  },
  {
   "cell_type": "code",
   "execution_count": 17,
   "metadata": {},
   "outputs": [],
   "source": [
    "# Reload our data to have the right iterable\n",
    "bs = 10 # define the minibatch size, this is also another hyperparameter we may change later\n",
    "trainloader = torch.utils.data.DataLoader(train_set, batch_size=bs, shuffle=True, num_workers=4)\n",
    "devloader = torch.utils.data.DataLoader(dev_set, batch_size=bs, shuffle=True, num_workers=4) # we shuffle the dev since we'll tune hyperameter based on dev set\n",
    "testloader = torch.utils.data.DataLoader(test_set, batch_size=bs, shuffle=False, num_workers=4)"
   ]
  },
  {
   "cell_type": "markdown",
   "metadata": {},
   "source": [
    "## 5. Fine-tuning the CNN model\n",
    "\n",
    "OK, now we've decided to fine-tune our model...\n",
    "\n",
    "### It's brainstorming time... where to adjust?\n",
    "**Tackling Avoidable Bias Problem between human-level performance and model performance** <br>\n",
    "\n",
    "*Network Archetecture*\n",
    "1. Change from Average Pooling to Max Pooling or other pooling methods. Hypothesis: The average pooling function may blur the gray-scale pixel boundaries of a handwritten digit, which may affect model performance.\n",
    "2. Train the model longer with more epochs & optimize minibatch size etc.\n",
    "3. Try a different Optimization algorithm, e.g., Adam, RMSprop etc. Hypothesis: the problem has several local optima and we may find a better optima than what we currently are able to get from minibatch SGD with momentum. More insights: https://towardsdatascience.com/overview-of-various-optimizers-in-neural-networks-17c1be2df6d5#:~:text=Optimizers%20are%20algorithms%20or%20methods,problems%20by%20minimizing%20the%20function.\n",
    "4. Following above, we can perform hyperparameter-tuning using the dev set after we settle on the choice of optimizer using training set.\n",
    "5. Change activation function (e.g, tanh, ReLU / Leaky ReLU etc.), apply batch normalization etc.\n",
    "6. We can train a bigger model. For example, more Conv layers, or more filters in existing Conv layers. There are also plenty of more complex network architecture to try as well, for example, AlexNet, Inception module, ResNet etc. We might be able to find some online github repo and perform transfer learning using pre-trained weights for this task as well.\n",
    "\n",
    "Note: we may need to iterately go through some of these steps for improvements.\n",
    "\n",
    "\n",
    "\n",
    "**Tackling High Variance Problem between Training set and Dev set performance (i.e. when we start overfitting our training set)** <br>\n",
    "1. Get more data, apply data augmentation by mirroring or apply random crops etc.\n",
    "2. Regularization: L2, dropouts, data augmentation may help as well.\n",
    "3. Change network architecture / perform hyperparameter search.\n",
    "\n",
    "\n",
    "Luckily in this MNIST classification problem our training / dev / test sets are from the same distribution with the same pre-processing steps applied to all data. If in some other problems we have datasets from different distribution then we might have to create a train-dev set to identify the \"avoidable bias\", \"high variance\", and \"data mismatch\" problem separately. Note: always use the data we care most about in the dev and test sets to set the bull's eye at the right place!\n",
    "\n",
    "Now we have some ideas and hypotheses, let's try to (in)validate them!"
   ]
  },
  {
   "cell_type": "markdown",
   "metadata": {},
   "source": [
    "### First of all, let's try to visualize the effect of pooling layers to see what they actually do."
   ]
  },
  {
   "cell_type": "code",
   "execution_count": 18,
   "metadata": {},
   "outputs": [
    {
     "name": "stdout",
     "output_type": "stream",
     "text": [
      "Raw Images\n"
     ]
    },
    {
     "data": {
      "image/png": "[encoded data removed]",
      "text/plain": [
       "<Figure size 432x288 with 1 Axes>"
      ]
     },
     "metadata": {
      "needs_background": "light"
     },
     "output_type": "display_data"
    },
    {
     "name": "stdout",
     "output_type": "stream",
     "text": [
      "Max Pooled Images\n"
     ]
    },
    {
     "data": {
      "image/png": "[encoded data removed]",
      "text/plain": [
       "<Figure size 432x288 with 1 Axes>"
      ]
     },
     "metadata": {
      "needs_background": "light"
     },
     "output_type": "display_data"
    },
    {
     "name": "stdout",
     "output_type": "stream",
     "text": [
      "Avg Pooled Images\n"
     ]
    },
    {
     "data": {
      "image/png": "[encoded data removed]",
      "text/plain": [
       "<Figure size 432x288 with 1 Axes>"
      ]
     },
     "metadata": {
      "needs_background": "light"
     },
     "output_type": "display_data"
    },
    {
     "name": "stdout",
     "output_type": "stream",
     "text": [
      "Power Pooled (P=1, sum pooled) Images\n"
     ]
    },
    {
     "data": {
      "image/png": "[encoded data removed]",
      "text/plain": [
       "<Figure size 432x288 with 1 Axes>"
      ]
     },
     "metadata": {
      "needs_background": "light"
     },
     "output_type": "display_data"
    },
    {
     "name": "stdout",
     "output_type": "stream",
     "text": [
      "Power Pooled (P=1e8) Images\n"
     ]
    },
    {
     "data": {
      "image/png": "[encoded data removed]",
      "text/plain": [
       "<Figure size 432x288 with 1 Axes>"
      ]
     },
     "metadata": {
      "needs_background": "light"
     },
     "output_type": "display_data"
    }
   ],
   "source": [
    "MP = nn.MaxPool2d(kernel_size=2, stride=2, padding=0)\n",
    "AP = nn.AvgPool2d(kernel_size=2, stride=2, padding=0)\n",
    "PP1 = nn.LPPool2d(1, kernel_size=2, stride=2) #power pooing, p=1 is sum pooling, p=Inf is max pooling\n",
    "PP2 = nn.LPPool2d(1e8, kernel_size=2, stride=2) #power pooing, p=1 is sum pooling, p=Inf is max pooling\n",
    "\n",
    "dataiter = iter(testloader)\n",
    "images, labels = dataiter.next()\n",
    "\n",
    "# print images\n",
    "print(\"Raw Images\")\n",
    "show(torchvision.utils.make_grid(images, nrow=10, padding=3, normalize=True, range=(-1,1), pad_value=1)) # https://pytorch.org/docs/stable/torchvision/utils.html\n",
    "\n",
    "print(\"Max Pooled Images\")\n",
    "show(torchvision.utils.make_grid(MP(images), nrow=10, padding=3, normalize=True, range=(-1,1), pad_value=1)) # https://pytorch.org/docs/stable/torchvision/utils.html\n",
    "\n",
    "print(\"Avg Pooled Images\")\n",
    "show(torchvision.utils.make_grid(AP(images), nrow=10, padding=3, normalize=True, range=(-1,1), pad_value=1)) # https://pytorch.org/docs/stable/torchvision/utils.html\n",
    "\n",
    "print(\"Power Pooled (P=1, sum pooled) Images\")\n",
    "show(torchvision.utils.make_grid(PP1(images), nrow=10, padding=3, normalize=True, range=(-1,1), pad_value=1)) # https://pytorch.org/docs/stable/torchvision/utils.html\n",
    "\n",
    "print(\"Power Pooled (P=1e8) Images\")\n",
    "show(torchvision.utils.make_grid(PP2(images), nrow=10, padding=3, normalize=True, range=(-1,1), pad_value=1)) # https://pytorch.org/docs/stable/torchvision/utils.html"
   ]
  },
  {
   "cell_type": "markdown",
   "metadata": {},
   "source": [
    "As can be see from above, max pool and sum pool seem to give sharper edges when visually inspected with naked eye compared to the avg pooling approach. Now let's test their individual performance. *Note: change the self.pool definition of the LeNet5 class below to modify the pooling layer mechanism.*"
   ]
  },
  {
   "cell_type": "code",
   "execution_count": 82,
   "metadata": {},
   "outputs": [],
   "source": [
    "import torch.nn as nn\n",
    "import torch.optim as optim\n",
    "import torch.nn.functional as F\n",
    "\n",
    "\n",
    "class LeNet5(nn.Module):\n",
    "    def __init__(self):\n",
    "        super().__init__()\n",
    "        self.conv1 = nn.Conv2d(in_channels=1, out_channels=6, kernel_size=5, stride=1, padding=0) # Cin (for gray scale image we only have 1 channel), Cout, Kernel size\n",
    "#         self.pool = nn.AvgPool2d(kernel_size=2, stride=2, padding=0)\n",
    "#         self.pool = nn.MaxPool2d(kernel_size=2, stride=2, padding=0)\n",
    "        self.pool = nn.LPPool2d(1, kernel_size=2, stride=2) #power pooing, p=1 is sum pooling, p=Inf is max pooling\n",
    "        self.conv2 = nn.Conv2d(in_channels=6, out_channels=16, kernel_size=5, stride=1, padding=0)\n",
    "        self.fc1 = nn.Linear(16 * 5 * 5, 120)\n",
    "        self.fc2 = nn.Linear(120, 84)\n",
    "        self.fc3 = nn.Linear(84, 10)\n",
    "\n",
    "    def forward(self, x):\n",
    "        x = self.pool(F.relu(self.conv1(x))) # first run conv layer, then the relu activation function, then 2D pooling\n",
    "        x = self.pool(F.relu(self.conv2(x)))\n",
    "        x = x.view(-1, 16 * 5 * 5)\n",
    "        x = F.relu(self.fc1(x))\n",
    "        x = F.relu(self.fc2(x))\n",
    "        x = self.fc3(x)\n",
    "        return x\n",
    "\n",
    "def get_model():        \n",
    "    model = LeNet5()\n",
    "    # define optimization algorithm and loss function\n",
    "    optimizer = optim.SGD(model.parameters(), lr=0.001, momentum=0.9) # common beta selection for momentum is 0.9; learning rate is a hyperparameter to be tuned\n",
    "    criterion = nn.CrossEntropyLoss()\n",
    "    return model, optimizer, criterion\n",
    "\n",
    "# Train model\n",
    "def train_model(num_epoch, model, optimizer, criterion, verbose=True):\n",
    "    for epoch in range(num_epoch):  # loop over the dataset multiple times\n",
    "\n",
    "        running_loss = 0.0\n",
    "\n",
    "        for i, data in enumerate(trainloader, start=0):\n",
    "            # get the inputs; data is a list of [inputs, labels]\n",
    "            inputs, labels = data\n",
    "\n",
    "            # zero the parameter gradients per minibatch\n",
    "            optimizer.zero_grad()\n",
    "\n",
    "            # forward + backward + optimize\n",
    "            outputs = model(inputs) # this automatically calls the forward function on the minibatch dataset of size bs\n",
    "            loss = criterion(outputs, labels) # compute the loss using previously defined function\n",
    "            loss.backward() # back proppagation to compute gradients\n",
    "            optimizer.step() # update the parameters\n",
    "\n",
    "            if verbose:\n",
    "                # print statistics\n",
    "                running_loss += loss.item() # CrossEntropy or other loss functions is divided by the number of elements i.e. the reduction parameter is mean by default.\n",
    "\n",
    "                if i % 2000 == 1999:    # print every 2000 mini-batches, each minibatch has bs examples\n",
    "                    print('[%d, %5d] loss: %.3f' %\n",
    "                          (epoch + 1, i + 1, running_loss / 2000))\n",
    "                    running_loss = 0.0 # reset averaged minibatch running loss to benchmark progress of training\n",
    "\n",
    "    print('Finished Training')\n",
    "\n",
    "\n",
    "def test_model(iterator, model, verbose=True):\n",
    "    # Test model performnance on dev set\n",
    "    correct = 0\n",
    "    total = 0\n",
    "    \n",
    "    with torch.no_grad():\n",
    "        for data in iterator:\n",
    "            images, labels = data\n",
    "            outputs = model(images)\n",
    "            _, pred = torch.max(outputs.data, 1)\n",
    "            total += labels.size(0)\n",
    "            correct += (pred == labels).sum().item()\n",
    "            \n",
    "    accuracy = 100. * correct / total\n",
    "    if verbose:\n",
    "        print('Accuracy of the network on the %d images: %.2f%%' % (total, accuracy))\n",
    "        \n",
    "    return accuracy"
   ]
  },
  {
   "cell_type": "code",
   "execution_count": 52,
   "metadata": {},
   "outputs": [
    {
     "name": "stdout",
     "output_type": "stream",
     "text": [
      "[1,  2000] loss: 0.985\n",
      "[1,  4000] loss: 0.155\n",
      "[2,  2000] loss: 0.094\n",
      "[2,  4000] loss: 0.081\n",
      "[3,  2000] loss: 0.062\n",
      "[3,  4000] loss: 0.059\n",
      "Finished Training\n",
      "Accuracy of the network on the 10000 dev set images: 98.28%\n",
      "[1,  2000] loss: 1.165\n",
      "[1,  4000] loss: 0.153\n",
      "[2,  2000] loss: 0.087\n",
      "[2,  4000] loss: 0.084\n",
      "[3,  2000] loss: 0.063\n",
      "[3,  4000] loss: 0.062\n",
      "Finished Training\n",
      "Accuracy of the network on the 10000 dev set images: 98.17%\n",
      "[1,  2000] loss: 0.940\n",
      "[1,  4000] loss: 0.170\n",
      "[2,  2000] loss: 0.098\n",
      "[2,  4000] loss: 0.088\n",
      "[3,  2000] loss: 0.062\n",
      "[3,  4000] loss: 0.057\n",
      "Finished Training\n",
      "Accuracy of the network on the 10000 dev set images: 98.29%\n",
      "[1,  2000] loss: 1.158\n",
      "[1,  4000] loss: 0.165\n",
      "[2,  2000] loss: 0.101\n",
      "[2,  4000] loss: 0.081\n",
      "[3,  2000] loss: 0.065\n",
      "[3,  4000] loss: 0.060\n",
      "Finished Training\n",
      "Accuracy of the network on the 10000 dev set images: 98.22%\n",
      "[1,  2000] loss: 1.141\n",
      "[1,  4000] loss: 0.191\n",
      "[2,  2000] loss: 0.106\n",
      "[2,  4000] loss: 0.085\n",
      "[3,  2000] loss: 0.067\n",
      "[3,  4000] loss: 0.054\n",
      "Finished Training\n",
      "Accuracy of the network on the 10000 dev set images: 98.26%\n",
      "averaged model performance: 98.24%\n"
     ]
    }
   ],
   "source": [
    "# Note: Change the verbose to False to output less training progress\n",
    "num_of_instances = 5\n",
    "model_performance = np.zeros(num_of_instances)\n",
    "for i in range(num_of_instances):\n",
    "    model, optimizer, criterion = get_model()\n",
    "    train_model(3, model, optimizer, criterion, verbose=True) # train with 3 epochs\n",
    "    model_performance[i] = test_model(devloader, model, verbose=True)\n",
    "print(\"averaged model performance: %.2f%%\" % np.mean(model_performance))"
   ]
  },
  {
   "cell_type": "markdown",
   "metadata": {},
   "source": [
    "Here is an example of model accuracy on dev set from different pooling mechanisms, averaged over 5 instances:\n",
    "1. AvgPooling: 97.91%, 97.35%, 97.28%, 97.48%, 97.28%; average: **97.46%**\n",
    "2. MaxPooling: 98.27%, 97.97%, 98.10%, 97.90%, 97.82%; average: **98.01%**\n",
    "3. SumPooling: 98.11%, 98.43%, 98.25%, 98.72%, 98.60%; average: **98.42%**\n",
    "\n",
    "The results shows the sum pooling approach gives a higher model accuracy than max and average pooling. It also implies that when the image is sharper the algorithm may have an easier time to distinguish it. Note that here we only training our Convolution Neural Network with 3 epochs. Let's try to visualize how the dev set accuracy changes if we train our model with a larger number of epochs."
   ]
  },
  {
   "cell_type": "code",
   "execution_count": 54,
   "metadata": {},
   "outputs": [
    {
     "name": "stdout",
     "output_type": "stream",
     "text": [
      "[1,  2000] loss: 0.387\n",
      "[1,  4000] loss: 0.120\n",
      "Finished Training\n",
      "Accuracy of the network on the 10000 dev set images: 97.41%\n",
      "[1,  2000] loss: 0.074\n",
      "[1,  4000] loss: 0.062\n",
      "Finished Training\n",
      "Accuracy of the network on the 10000 dev set images: 98.19%\n",
      "[1,  2000] loss: 0.046\n",
      "[1,  4000] loss: 0.047\n",
      "Finished Training\n",
      "Accuracy of the network on the 10000 dev set images: 98.44%\n",
      "[1,  2000] loss: 0.037\n",
      "[1,  4000] loss: 0.035\n",
      "Finished Training\n",
      "Accuracy of the network on the 10000 dev set images: 98.55%\n",
      "[1,  2000] loss: 0.029\n",
      "[1,  4000] loss: 0.032\n",
      "Finished Training\n",
      "Accuracy of the network on the 10000 dev set images: 98.45%\n",
      "[1,  2000] loss: 0.022\n",
      "[1,  4000] loss: 0.029\n",
      "Finished Training\n",
      "Accuracy of the network on the 10000 dev set images: 98.87%\n",
      "[1,  2000] loss: 0.021\n",
      "[1,  4000] loss: 0.022\n",
      "Finished Training\n",
      "Accuracy of the network on the 10000 dev set images: 99.06%\n",
      "[1,  2000] loss: 0.014\n",
      "[1,  4000] loss: 0.017\n",
      "Finished Training\n",
      "Accuracy of the network on the 10000 dev set images: 98.73%\n",
      "[1,  2000] loss: 0.014\n",
      "[1,  4000] loss: 0.016\n",
      "Finished Training\n",
      "Accuracy of the network on the 10000 dev set images: 98.91%\n",
      "[1,  2000] loss: 0.011\n",
      "[1,  4000] loss: 0.013\n",
      "Finished Training\n",
      "Accuracy of the network on the 10000 dev set images: 99.11%\n",
      "[1,  2000] loss: 0.008\n",
      "[1,  4000] loss: 0.012\n",
      "Finished Training\n",
      "Accuracy of the network on the 10000 dev set images: 98.83%\n",
      "[1,  2000] loss: 0.008\n",
      "[1,  4000] loss: 0.011\n",
      "Finished Training\n",
      "Accuracy of the network on the 10000 dev set images: 98.70%\n",
      "[1,  2000] loss: 0.007\n",
      "[1,  4000] loss: 0.007\n",
      "Finished Training\n",
      "Accuracy of the network on the 10000 dev set images: 99.01%\n",
      "[1,  2000] loss: 0.006\n",
      "[1,  4000] loss: 0.009\n",
      "Finished Training\n",
      "Accuracy of the network on the 10000 dev set images: 99.02%\n",
      "[1,  2000] loss: 0.006\n",
      "[1,  4000] loss: 0.008\n",
      "Finished Training\n",
      "Accuracy of the network on the 10000 dev set images: 99.02%\n",
      "[1,  2000] loss: 0.004\n",
      "[1,  4000] loss: 0.006\n",
      "Finished Training\n",
      "Accuracy of the network on the 10000 dev set images: 98.63%\n",
      "[1,  2000] loss: 0.003\n",
      "[1,  4000] loss: 0.008\n",
      "Finished Training\n",
      "Accuracy of the network on the 10000 dev set images: 98.95%\n",
      "[1,  2000] loss: 0.009\n",
      "[1,  4000] loss: 0.008\n",
      "Finished Training\n",
      "Accuracy of the network on the 10000 dev set images: 99.05%\n",
      "[1,  2000] loss: 0.005\n",
      "[1,  4000] loss: 0.007\n",
      "Finished Training\n",
      "Accuracy of the network on the 10000 dev set images: 98.94%\n",
      "[1,  2000] loss: 0.003\n",
      "[1,  4000] loss: 0.003\n",
      "Finished Training\n",
      "Accuracy of the network on the 10000 dev set images: 98.90%\n"
     ]
    }
   ],
   "source": [
    "num_of_epochs = 20\n",
    "model_performance = np.zeros(num_of_epochs)\n",
    "model, optimizer, criterion = get_model()\n",
    "\n",
    "for i in range(num_of_epochs):\n",
    "    train_model(1, model, optimizer, criterion, verbose=True) # train with 1 epoch\n",
    "    model_performance[i] = test_model(devloader, model, verbose=True) # test performance every epoch"
   ]
  },
  {
   "cell_type": "markdown",
   "metadata": {},
   "source": [
    "Now let's visualize the results:"
   ]
  },
  {
   "cell_type": "code",
   "execution_count": 65,
   "metadata": {},
   "outputs": [
    {
     "data": {
      "image/png": "[encoded data removed]",
      "text/plain": [
       "<Figure size 600x400 with 1 Axes>"
      ]
     },
     "metadata": {
      "needs_background": "light"
     },
     "output_type": "display_data"
    }
   ],
   "source": [
    "from scipy.ndimage.filters import uniform_filter1d\n",
    "\n",
    "plt.figure(dpi=100)\n",
    "plt.plot(range(num_of_epochs), model_performance)\n",
    "plt.plot(range(num_of_epochs), uniform_filter1d(model_performance, 3))\n",
    "plt.xlabel(\"Number of training epochs\")\n",
    "plt.ylabel('Dev Set Accuracy (%)')\n",
    "plt.legend(['Model Accuracy', \"Moving average over 3 examples\"])\n",
    "plt.xticks(np.arange(0, num_of_epochs, step=2))\n",
    "plt.show()"
   ]
  },
  {
   "cell_type": "markdown",
   "metadata": {},
   "source": [
    "As can be seen from above, our CNN accuracy goes up with training epoch to a certain degree and stopped improving after the modeled is trained with ~7 epochs."
   ]
  },
  {
   "cell_type": "code",
   "execution_count": 79,
   "metadata": {},
   "outputs": [
    {
     "name": "stdout",
     "output_type": "stream",
     "text": [
      "The average accuracy after training 7 epochs is: 98.92%\n"
     ]
    }
   ],
   "source": [
    "print(\"The average accuracy after training 7 epochs is: %.2f%%\" % np.mean(model_performance[6:]))"
   ]
  },
  {
   "cell_type": "markdown",
   "metadata": {},
   "source": [
    "It's good to see our model's dev set accuracy goes up from our original 97.5% to 98.9% by just changing the pooling mechanism and training longer! Now let's compare the accuracy on the training, dev, and test set to see if the performance on the dev set is reproducible on the test set."
   ]
  },
  {
   "cell_type": "code",
   "execution_count": 83,
   "metadata": {},
   "outputs": [
    {
     "name": "stdout",
     "output_type": "stream",
     "text": [
      "Accuracy of the network on the 50000 images: 99.89%\n",
      "Accuracy of the network on the 10000 images: 98.90%\n",
      "Accuracy of the network on the 10000 images: 99.06%\n"
     ]
    },
    {
     "data": {
      "text/plain": [
       "99.06"
      ]
     },
     "execution_count": 83,
     "metadata": {},
     "output_type": "execute_result"
    }
   ],
   "source": [
    "test_model(trainloader, model, verbose=True) # training set accuracy\n",
    "test_model(devloader, model, verbose=True) # dev set accuracy\n",
    "test_model(testloader, model, verbose=True) # test set accuracy"
   ]
  },
  {
   "cell_type": "markdown",
   "metadata": {},
   "source": [
    "It's good to see that our model predicted the training set most accurately, which is what it is supposed to do as it has seen the data multiple times. It's also good to see our dev set accuracy benchmark well with the test accuracy. This indicates the benefits from our hyperparameter tuning based on dev set performance can likely be passed along to real-time test set predictions. We will come back and check them often. Now let's explore the effect of minibatch size and optimization algorithms."
   ]
  },
  {
   "cell_type": "code",
   "execution_count": null,
   "metadata": {},
   "outputs": [],
   "source": []
  },
  {
   "cell_type": "code",
   "execution_count": null,
   "metadata": {},
   "outputs": [],
   "source": []
  }
 ],
 "metadata": {
  "kernelspec": {
   "display_name": "Python 3",
   "language": "python",
   "name": "python3"
  },
  "language_info": {
   "codemirror_mode": {
    "name": "ipython",
    "version": 3
   },
   "file_extension": ".py",
   "mimetype": "text/x-python",
   "name": "python",
   "nbconvert_exporter": "python",
   "pygments_lexer": "ipython3",
   "version": "3.7.6"
  }
 },
 "nbformat": 4,
 "nbformat_minor": 1
}
